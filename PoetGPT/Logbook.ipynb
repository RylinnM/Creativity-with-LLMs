{
  "cells": [
    {
      "cell_type": "markdown",
      "metadata": {
        "id": "mm8utoUBB7mL"
      },
      "source": [
        "#Planning\n",
        "\n",
        "To devide the work between the three people working on this project we first have to make a general idea of what needs to be done.\n",
        "\n",
        "-Gather A set of Poems for inspiration\n",
        "\n",
        "*   https://www.poetry.com/\n",
        "*   https://www.poetryfoundation.org/\n",
        "*   https://www.poemhunter.com/\n",
        "*   look for other sources.\n",
        "\n",
        "\n",
        "\n",
        "-Implement a Poem Generator\n",
        "\n",
        "*   Gather different templates for generators\n",
        "*   think about drawback and advantages per template\n",
        "*   What would be the stopping criteria\n",
        "*   Are there other goals we want to achieve?\n",
        "*   http://tinysubversions.com/notes/sorting-bot/\n",
        "  \n",
        "  \n",
        "\n",
        "-Present poem\n",
        "* Gather different presentation methods\n",
        "* Decide which one, or ones to use."
      ]
    },
    {
      "cell_type": "markdown",
      "metadata": {
        "id": "2yBSsAEeJLSz"
      },
      "source": [
        "#Gathering Poems"
      ]
    },
    {
      "cell_type": "markdown",
      "metadata": {
        "id": "1qC87nL6MI-_"
      },
      "source": [
        "https://www.kaggle.com/datasets/ultrajack/modern-renaissance-poetry/data\n",
        "###https://www.kaggle.com/datasets/johnhallman/complete-poetryfoundationorg-dataset (chosen)\n",
        "\n",
        "The complete poetry foundation dataset, which is published on Kaggle, was chosen as the data lake for model training and testing. Such selection is based on three insprations and reasons.\n",
        "\n",
        "\n",
        "\n",
        "1.   Comprehensiveness. The complete poetry foundation dataset is a comprehensive logbook of poems, containing various poems written by different poets. The dataset contains approximately 15K poems of various styles, making it one of the most comprehensive dataset dedicated for poems that are available. With rich contents, the model is likely to better learn to generate poems and reduce the risk of overfitting or underfitting.\n",
        "\n",
        "2.   Various styles. The collection holds poems of distinct styles, which make it possible for the generator to learn different styles and thus generating poems that are lively instead of a fixed pattern. Other datasets have fewer genres which limits the variablity of the training data. We believe variation is one of the core characteristics of poems, regardless classical or modern.\n",
        "\n",
        "3.   Understanding Poetic Structure. Poems often follow specific structural rules, such as rhyming schemes or meter. Poems in the selected dataset shows positive following of structure rules, which we believe will enable to generator to learn from and eventually produce poems instead of meaningful plain texts.\n",
        "\n"
      ]
    },
    {
      "cell_type": "markdown",
      "metadata": {
        "id": "z4O67GbwEJ-i"
      },
      "source": [
        "## Advantages and disadvantage of each set"
      ]
    },
    {
      "cell_type": "markdown",
      "metadata": {
        "id": "OemWTKKgJ6qz"
      },
      "source": [
        "#Implementing Generator"
      ]
    },
    {
      "cell_type": "markdown",
      "metadata": {
        "id": "_nREc5K_KNLi"
      },
      "source": [
        "##Gathering Models\n",
        "\n",
        "First we have to orient on the different kind of models. to do this we look up a few existing ones and gather them together so we can more easily define the advantages and disadvantages of each one. The gathered models are the following:\n",
        "\n",
        "*   Templates (Stochastic Texts,A House of Dust) https://brightspace.universiteitleiden.nl/content/enforced/239785-4383COMCRY_2324_S1/Tutorial%202%20Templates.html?ou=239785&d2l_body_type=3\n",
        "*   Markov Decision Process https://pymdptoolbox.readthedocs.io/en/latest/\n",
        "*   Contect free/sensitive grammar https://brightspace.universiteitleiden.nl/content/enforced/239785-4383COMCRY_2324_S1/Tutorial%203%20Grammars.html?ou=239785&d2l_body_type=3\n",
        "*   Bag of words (word2vec) https://github.com/OlgaChernytska/word2vec-pytorch\n",
        "*   Recurrent Neural Networks (RNN) https://blog.floydhub.com/a-beginners-guide-on-recurrent-neural-networks-with-pytorch/\n",
        "*   GRU and LSTM Models https://machinelearningmastery.com/time-series-prediction-lstm-recurrent-neural-networks-python-keras/\n",
        "*   Huggingface GPT2 https://huggingface.co/gpt2\n",
        "*   Bidirectional Encoder Representations from Transformers (BERT) https://neptune.ai/blog/how-to-code-bert-using-pytorch-tutorial\n",
        "\n",
        "\n",
        "\n",
        "\n",
        "\n"
      ]
    },
    {
      "cell_type": "markdown",
      "metadata": {
        "id": "T5WwyVm_KVZL"
      },
      "source": [
        "##Advantages and Disadvantags\n",
        "\n",
        "To decide wich model we want to use for our poem generator we next have to sum up the advantages and disadvantages of each one. The models are sorted from easy to implement to more difficult to implement while at the same time sorted from \"worse\" at generating poems to \"better\" at generating poems. This is because the later models use more and better techniques which results in more structured, but at the same time more original poems.\n",
        "\n",
        "*   Templates (Stochastic Texts, A House of Dust) :\n",
        "  *   Pros: Very easily implemented.\n",
        "  *   Cons: The Poem can only be as creative as the template allowes. There is no coherency between the chosen words unless one specificaly hard codes this. You cant change the length of the poem. The sentence might not flow nicely, or make no sense at all.\n",
        "\n",
        "*   Markov Decision Process:\n",
        "  *   Pros: Makes sense by humans so it is easy to fine-tune parameters. Will look more like structured sentences.\n",
        "  *   Cons: Difficult to get gramatically correct sentences or sentences that make sense. One has to design the structures from which the sentences can be made which can take a lot of time.\n",
        "\n",
        "*   Contect free/sensitive grammar:\n",
        "  *   Pros: Makes sense by humans so it is easy to fine-tune parameters. Will look more like structured sentences. Might be a bit more difficult to follow then MDP but can get to the same results with some additional features.\n",
        "  *   Cons: Difficult to get gramatically correct sentences or sentences that make sense. One has to design the structures from which the sentences can be made which can take a lot of time.\n",
        "\n",
        "*   Bag of words (word2vec) :\n",
        "  *   Pros: words with similair meanings are close to each other in chances of being picked. This will cause scentenses to make more sense than when using the abovementioned models.\n",
        "  *   Cons: This is only a tool to guess words in a given context, one still needs to write the context or jump-start the model.\n",
        "\n",
        "*   Recurrent Neural Networks (RNN) :\n",
        "  *   Pros: Can in theory make original coherent poems if the network and dataset is big enough\n",
        "  *   Cons: If scentenses become longer they will become less coherent because of vanishing gradients. Need to be trained. Can only look backwards to generate new words.\n",
        "\n",
        "*   GRU and LSTM Models :\n",
        "  *   Pros: Can better remember coherency of a scentence when they get longer.\n",
        "  *   Cons: More difficult to implement than RNN. Difficult to paralellize. Still bad with context. Can only look backwards to generate new words.\n",
        "\n",
        "*   Huggingface GPT2 :\n",
        "  *   Pros: Can define how sentences relate to each other and use this to make a coherent story.\n",
        "  *   Cons: Requires a large dataset to train. Blackbox model makes it difficult to understand hyper-parameters. Can only look backwards to generate new words.\n",
        "\n",
        "*   Bidirectional Encoder Representations from Transformers (BERT) :\n",
        "  *   Pros: Can define how sentences relate to each other and use this to make a coherent story. Unidirectional.\n",
        "  *   Cons: Requires a large dataset to train. Blackbox model makes it difficult to understand hyper-parameters. More difficult than GPT.\n",
        "\n",
        "\n"
      ]
    },
    {
      "cell_type": "markdown",
      "metadata": {
        "id": "tUIVKS8YKced"
      },
      "source": [
        "##Stopping Criteria\n",
        "\n",
        "For our poems we want the model to have a chance to stop generating at the end of each sentence. This chance will start of very low, and then increase after each sentence until a certain sentence limit is reached. This will result in a bell-curve like spreak of poems. Some will be shorter than average, some will be longer, but on average most will have the same length."
      ]
    },
    {
      "cell_type": "markdown",
      "metadata": {
        "id": "0ifWYwf8KkYs"
      },
      "source": [
        "##Extra goals\n",
        "\n",
        "For our generator we want it to be able to write at least coherent sentences. Sentences that are connected and make a coherent story would be a nice extra.\n",
        "This Limits our choices to a GPT or a BERT model."
      ]
    },
    {
      "cell_type": "markdown",
      "metadata": {
        "id": "olXFxVAILRgK"
      },
      "source": [
        "#implementation\n",
        "\n",
        "The final choice for our model is a GPT2 model. We looked online for tutorials and found one that we thought was doable to implement. Most of the code comes from the following website: https://towardsdatascience.com/how-to-fine-tune-gpt-2-for-text-generation-ae2ea53bc272. This we will then later change and/or tweak to our own requirements."
      ]
    },
    {
      "cell_type": "markdown",
      "metadata": {
        "id": "l9uJOmBcZmvX"
      },
      "source": [
        "## Data Loading"
      ]
    },
    {
      "cell_type": "markdown",
      "source": [
        "To train the model we first need to connect to the dataset. This dataset has to be uploaded to you google drive in the same folder as the 'dataset_path' path."
      ],
      "metadata": {
        "id": "1wxvq_CszTkA"
      }
    },
    {
      "cell_type": "code",
      "execution_count": null,
      "metadata": {
        "id": "O0jzADWMLVcy"
      },
      "outputs": [],
      "source": [
        "from google.colab import drive\n",
        "drive.mount('/content/drive')"
      ]
    },
    {
      "cell_type": "code",
      "execution_count": null,
      "metadata": {
        "id": "Sm5a8ccadqFY"
      },
      "outputs": [],
      "source": [
        "import pandas as pd"
      ]
    },
    {
      "cell_type": "code",
      "execution_count": null,
      "metadata": {
        "id": "imOPGiEVah8k",
        "colab": {
          "base_uri": "https://localhost:8080/",
          "height": 206
        },
        "outputId": "71574e17-c760-4067-b21a-883b98cfab60"
      },
      "outputs": [
        {
          "output_type": "execute_result",
          "data": {
            "text/plain": [
              "              Author           Title  Poetry Foundation ID  \\\n",
              "0     Wendy Videlock               !                 55489   \n",
              "1  Hailey Leithauser               0                 41729   \n",
              "2      Jody Gladding      1-800-FEAR                 57135   \n",
              "3     Joseph Brodsky  1 January 1965                 56736   \n",
              "4       Ted Berrigan         3 Pages                 51624   \n",
              "\n",
              "                                             Content  \n",
              "0  Dear Writers, I’m compiling the first in what ...  \n",
              "1  Philosophic\\nin its complex, ovoid emptiness,\\...  \n",
              "2  We'd  like  to  talk  with  you  about  fear t...  \n",
              "3  The Wise Men will unlearn your name.\\nAbove yo...  \n",
              "4  For Jack Collom\\n10 Things I do Every Day\\n\\np...  "
            ],
            "text/html": [
              "\n",
              "  <div id=\"df-1c3d54e3-23cd-4069-ad02-83a68039d6dc\" class=\"colab-df-container\">\n",
              "    <div>\n",
              "<style scoped>\n",
              "    .dataframe tbody tr th:only-of-type {\n",
              "        vertical-align: middle;\n",
              "    }\n",
              "\n",
              "    .dataframe tbody tr th {\n",
              "        vertical-align: top;\n",
              "    }\n",
              "\n",
              "    .dataframe thead th {\n",
              "        text-align: right;\n",
              "    }\n",
              "</style>\n",
              "<table border=\"1\" class=\"dataframe\">\n",
              "  <thead>\n",
              "    <tr style=\"text-align: right;\">\n",
              "      <th></th>\n",
              "      <th>Author</th>\n",
              "      <th>Title</th>\n",
              "      <th>Poetry Foundation ID</th>\n",
              "      <th>Content</th>\n",
              "    </tr>\n",
              "  </thead>\n",
              "  <tbody>\n",
              "    <tr>\n",
              "      <th>0</th>\n",
              "      <td>Wendy Videlock</td>\n",
              "      <td>!</td>\n",
              "      <td>55489</td>\n",
              "      <td>Dear Writers, I’m compiling the first in what ...</td>\n",
              "    </tr>\n",
              "    <tr>\n",
              "      <th>1</th>\n",
              "      <td>Hailey Leithauser</td>\n",
              "      <td>0</td>\n",
              "      <td>41729</td>\n",
              "      <td>Philosophic\\nin its complex, ovoid emptiness,\\...</td>\n",
              "    </tr>\n",
              "    <tr>\n",
              "      <th>2</th>\n",
              "      <td>Jody Gladding</td>\n",
              "      <td>1-800-FEAR</td>\n",
              "      <td>57135</td>\n",
              "      <td>We'd  like  to  talk  with  you  about  fear t...</td>\n",
              "    </tr>\n",
              "    <tr>\n",
              "      <th>3</th>\n",
              "      <td>Joseph Brodsky</td>\n",
              "      <td>1 January 1965</td>\n",
              "      <td>56736</td>\n",
              "      <td>The Wise Men will unlearn your name.\\nAbove yo...</td>\n",
              "    </tr>\n",
              "    <tr>\n",
              "      <th>4</th>\n",
              "      <td>Ted Berrigan</td>\n",
              "      <td>3 Pages</td>\n",
              "      <td>51624</td>\n",
              "      <td>For Jack Collom\\n10 Things I do Every Day\\n\\np...</td>\n",
              "    </tr>\n",
              "  </tbody>\n",
              "</table>\n",
              "</div>\n",
              "    <div class=\"colab-df-buttons\">\n",
              "\n",
              "  <div class=\"colab-df-container\">\n",
              "    <button class=\"colab-df-convert\" onclick=\"convertToInteractive('df-1c3d54e3-23cd-4069-ad02-83a68039d6dc')\"\n",
              "            title=\"Convert this dataframe to an interactive table.\"\n",
              "            style=\"display:none;\">\n",
              "\n",
              "  <svg xmlns=\"http://www.w3.org/2000/svg\" height=\"24px\" viewBox=\"0 -960 960 960\">\n",
              "    <path d=\"M120-120v-720h720v720H120Zm60-500h600v-160H180v160Zm220 220h160v-160H400v160Zm0 220h160v-160H400v160ZM180-400h160v-160H180v160Zm440 0h160v-160H620v160ZM180-180h160v-160H180v160Zm440 0h160v-160H620v160Z\"/>\n",
              "  </svg>\n",
              "    </button>\n",
              "\n",
              "  <style>\n",
              "    .colab-df-container {\n",
              "      display:flex;\n",
              "      gap: 12px;\n",
              "    }\n",
              "\n",
              "    .colab-df-convert {\n",
              "      background-color: #E8F0FE;\n",
              "      border: none;\n",
              "      border-radius: 50%;\n",
              "      cursor: pointer;\n",
              "      display: none;\n",
              "      fill: #1967D2;\n",
              "      height: 32px;\n",
              "      padding: 0 0 0 0;\n",
              "      width: 32px;\n",
              "    }\n",
              "\n",
              "    .colab-df-convert:hover {\n",
              "      background-color: #E2EBFA;\n",
              "      box-shadow: 0px 1px 2px rgba(60, 64, 67, 0.3), 0px 1px 3px 1px rgba(60, 64, 67, 0.15);\n",
              "      fill: #174EA6;\n",
              "    }\n",
              "\n",
              "    .colab-df-buttons div {\n",
              "      margin-bottom: 4px;\n",
              "    }\n",
              "\n",
              "    [theme=dark] .colab-df-convert {\n",
              "      background-color: #3B4455;\n",
              "      fill: #D2E3FC;\n",
              "    }\n",
              "\n",
              "    [theme=dark] .colab-df-convert:hover {\n",
              "      background-color: #434B5C;\n",
              "      box-shadow: 0px 1px 3px 1px rgba(0, 0, 0, 0.15);\n",
              "      filter: drop-shadow(0px 1px 2px rgba(0, 0, 0, 0.3));\n",
              "      fill: #FFFFFF;\n",
              "    }\n",
              "  </style>\n",
              "\n",
              "    <script>\n",
              "      const buttonEl =\n",
              "        document.querySelector('#df-1c3d54e3-23cd-4069-ad02-83a68039d6dc button.colab-df-convert');\n",
              "      buttonEl.style.display =\n",
              "        google.colab.kernel.accessAllowed ? 'block' : 'none';\n",
              "\n",
              "      async function convertToInteractive(key) {\n",
              "        const element = document.querySelector('#df-1c3d54e3-23cd-4069-ad02-83a68039d6dc');\n",
              "        const dataTable =\n",
              "          await google.colab.kernel.invokeFunction('convertToInteractive',\n",
              "                                                    [key], {});\n",
              "        if (!dataTable) return;\n",
              "\n",
              "        const docLinkHtml = 'Like what you see? Visit the ' +\n",
              "          '<a target=\"_blank\" href=https://colab.research.google.com/notebooks/data_table.ipynb>data table notebook</a>'\n",
              "          + ' to learn more about interactive tables.';\n",
              "        element.innerHTML = '';\n",
              "        dataTable['output_type'] = 'display_data';\n",
              "        await google.colab.output.renderOutput(dataTable, element);\n",
              "        const docLink = document.createElement('div');\n",
              "        docLink.innerHTML = docLinkHtml;\n",
              "        element.appendChild(docLink);\n",
              "      }\n",
              "    </script>\n",
              "  </div>\n",
              "\n",
              "\n",
              "<div id=\"df-3f3b2658-795c-4a36-a048-da0c0c55972d\">\n",
              "  <button class=\"colab-df-quickchart\" onclick=\"quickchart('df-3f3b2658-795c-4a36-a048-da0c0c55972d')\"\n",
              "            title=\"Suggest charts.\"\n",
              "            style=\"display:none;\">\n",
              "\n",
              "<svg xmlns=\"http://www.w3.org/2000/svg\" height=\"24px\"viewBox=\"0 0 24 24\"\n",
              "     width=\"24px\">\n",
              "    <g>\n",
              "        <path d=\"M19 3H5c-1.1 0-2 .9-2 2v14c0 1.1.9 2 2 2h14c1.1 0 2-.9 2-2V5c0-1.1-.9-2-2-2zM9 17H7v-7h2v7zm4 0h-2V7h2v10zm4 0h-2v-4h2v4z\"/>\n",
              "    </g>\n",
              "</svg>\n",
              "  </button>\n",
              "\n",
              "<style>\n",
              "  .colab-df-quickchart {\n",
              "      --bg-color: #E8F0FE;\n",
              "      --fill-color: #1967D2;\n",
              "      --hover-bg-color: #E2EBFA;\n",
              "      --hover-fill-color: #174EA6;\n",
              "      --disabled-fill-color: #AAA;\n",
              "      --disabled-bg-color: #DDD;\n",
              "  }\n",
              "\n",
              "  [theme=dark] .colab-df-quickchart {\n",
              "      --bg-color: #3B4455;\n",
              "      --fill-color: #D2E3FC;\n",
              "      --hover-bg-color: #434B5C;\n",
              "      --hover-fill-color: #FFFFFF;\n",
              "      --disabled-bg-color: #3B4455;\n",
              "      --disabled-fill-color: #666;\n",
              "  }\n",
              "\n",
              "  .colab-df-quickchart {\n",
              "    background-color: var(--bg-color);\n",
              "    border: none;\n",
              "    border-radius: 50%;\n",
              "    cursor: pointer;\n",
              "    display: none;\n",
              "    fill: var(--fill-color);\n",
              "    height: 32px;\n",
              "    padding: 0;\n",
              "    width: 32px;\n",
              "  }\n",
              "\n",
              "  .colab-df-quickchart:hover {\n",
              "    background-color: var(--hover-bg-color);\n",
              "    box-shadow: 0 1px 2px rgba(60, 64, 67, 0.3), 0 1px 3px 1px rgba(60, 64, 67, 0.15);\n",
              "    fill: var(--button-hover-fill-color);\n",
              "  }\n",
              "\n",
              "  .colab-df-quickchart-complete:disabled,\n",
              "  .colab-df-quickchart-complete:disabled:hover {\n",
              "    background-color: var(--disabled-bg-color);\n",
              "    fill: var(--disabled-fill-color);\n",
              "    box-shadow: none;\n",
              "  }\n",
              "\n",
              "  .colab-df-spinner {\n",
              "    border: 2px solid var(--fill-color);\n",
              "    border-color: transparent;\n",
              "    border-bottom-color: var(--fill-color);\n",
              "    animation:\n",
              "      spin 1s steps(1) infinite;\n",
              "  }\n",
              "\n",
              "  @keyframes spin {\n",
              "    0% {\n",
              "      border-color: transparent;\n",
              "      border-bottom-color: var(--fill-color);\n",
              "      border-left-color: var(--fill-color);\n",
              "    }\n",
              "    20% {\n",
              "      border-color: transparent;\n",
              "      border-left-color: var(--fill-color);\n",
              "      border-top-color: var(--fill-color);\n",
              "    }\n",
              "    30% {\n",
              "      border-color: transparent;\n",
              "      border-left-color: var(--fill-color);\n",
              "      border-top-color: var(--fill-color);\n",
              "      border-right-color: var(--fill-color);\n",
              "    }\n",
              "    40% {\n",
              "      border-color: transparent;\n",
              "      border-right-color: var(--fill-color);\n",
              "      border-top-color: var(--fill-color);\n",
              "    }\n",
              "    60% {\n",
              "      border-color: transparent;\n",
              "      border-right-color: var(--fill-color);\n",
              "    }\n",
              "    80% {\n",
              "      border-color: transparent;\n",
              "      border-right-color: var(--fill-color);\n",
              "      border-bottom-color: var(--fill-color);\n",
              "    }\n",
              "    90% {\n",
              "      border-color: transparent;\n",
              "      border-bottom-color: var(--fill-color);\n",
              "    }\n",
              "  }\n",
              "</style>\n",
              "\n",
              "  <script>\n",
              "    async function quickchart(key) {\n",
              "      const quickchartButtonEl =\n",
              "        document.querySelector('#' + key + ' button');\n",
              "      quickchartButtonEl.disabled = true;  // To prevent multiple clicks.\n",
              "      quickchartButtonEl.classList.add('colab-df-spinner');\n",
              "      try {\n",
              "        const charts = await google.colab.kernel.invokeFunction(\n",
              "            'suggestCharts', [key], {});\n",
              "      } catch (error) {\n",
              "        console.error('Error during call to suggestCharts:', error);\n",
              "      }\n",
              "      quickchartButtonEl.classList.remove('colab-df-spinner');\n",
              "      quickchartButtonEl.classList.add('colab-df-quickchart-complete');\n",
              "    }\n",
              "    (() => {\n",
              "      let quickchartButtonEl =\n",
              "        document.querySelector('#df-3f3b2658-795c-4a36-a048-da0c0c55972d button');\n",
              "      quickchartButtonEl.style.display =\n",
              "        google.colab.kernel.accessAllowed ? 'block' : 'none';\n",
              "    })();\n",
              "  </script>\n",
              "</div>\n",
              "    </div>\n",
              "  </div>\n"
            ]
          },
          "metadata": {},
          "execution_count": 3
        }
      ],
      "source": [
        "dataset_path = '/content/drive/MyDrive/kaggle_poem_dataset.csv'\n",
        "df = pd.read_csv(dataset_path,index_col=0)\n",
        "df.head()"
      ]
    },
    {
      "cell_type": "markdown",
      "source": [
        "For our model we only need the poem text so we drop all other columns"
      ],
      "metadata": {
        "id": "ecebz93cz9v2"
      }
    },
    {
      "cell_type": "code",
      "execution_count": null,
      "metadata": {
        "id": "yRBNM9ZYw70b",
        "colab": {
          "base_uri": "https://localhost:8080/",
          "height": 206
        },
        "outputId": "9a1c9d51-1ad8-4638-9f7f-bfcbe2f5b1c0"
      },
      "outputs": [
        {
          "output_type": "execute_result",
          "data": {
            "text/plain": [
              "                                             Content\n",
              "0  Dear Writers, I’m compiling the first in what ...\n",
              "1  Philosophic\\nin its complex, ovoid emptiness,\\...\n",
              "2  We'd  like  to  talk  with  you  about  fear t...\n",
              "3  The Wise Men will unlearn your name.\\nAbove yo...\n",
              "4  For Jack Collom\\n10 Things I do Every Day\\n\\np..."
            ],
            "text/html": [
              "\n",
              "  <div id=\"df-a10b4573-3174-483a-ae01-49af384adee1\" class=\"colab-df-container\">\n",
              "    <div>\n",
              "<style scoped>\n",
              "    .dataframe tbody tr th:only-of-type {\n",
              "        vertical-align: middle;\n",
              "    }\n",
              "\n",
              "    .dataframe tbody tr th {\n",
              "        vertical-align: top;\n",
              "    }\n",
              "\n",
              "    .dataframe thead th {\n",
              "        text-align: right;\n",
              "    }\n",
              "</style>\n",
              "<table border=\"1\" class=\"dataframe\">\n",
              "  <thead>\n",
              "    <tr style=\"text-align: right;\">\n",
              "      <th></th>\n",
              "      <th>Content</th>\n",
              "    </tr>\n",
              "  </thead>\n",
              "  <tbody>\n",
              "    <tr>\n",
              "      <th>0</th>\n",
              "      <td>Dear Writers, I’m compiling the first in what ...</td>\n",
              "    </tr>\n",
              "    <tr>\n",
              "      <th>1</th>\n",
              "      <td>Philosophic\\nin its complex, ovoid emptiness,\\...</td>\n",
              "    </tr>\n",
              "    <tr>\n",
              "      <th>2</th>\n",
              "      <td>We'd  like  to  talk  with  you  about  fear t...</td>\n",
              "    </tr>\n",
              "    <tr>\n",
              "      <th>3</th>\n",
              "      <td>The Wise Men will unlearn your name.\\nAbove yo...</td>\n",
              "    </tr>\n",
              "    <tr>\n",
              "      <th>4</th>\n",
              "      <td>For Jack Collom\\n10 Things I do Every Day\\n\\np...</td>\n",
              "    </tr>\n",
              "  </tbody>\n",
              "</table>\n",
              "</div>\n",
              "    <div class=\"colab-df-buttons\">\n",
              "\n",
              "  <div class=\"colab-df-container\">\n",
              "    <button class=\"colab-df-convert\" onclick=\"convertToInteractive('df-a10b4573-3174-483a-ae01-49af384adee1')\"\n",
              "            title=\"Convert this dataframe to an interactive table.\"\n",
              "            style=\"display:none;\">\n",
              "\n",
              "  <svg xmlns=\"http://www.w3.org/2000/svg\" height=\"24px\" viewBox=\"0 -960 960 960\">\n",
              "    <path d=\"M120-120v-720h720v720H120Zm60-500h600v-160H180v160Zm220 220h160v-160H400v160Zm0 220h160v-160H400v160ZM180-400h160v-160H180v160Zm440 0h160v-160H620v160ZM180-180h160v-160H180v160Zm440 0h160v-160H620v160Z\"/>\n",
              "  </svg>\n",
              "    </button>\n",
              "\n",
              "  <style>\n",
              "    .colab-df-container {\n",
              "      display:flex;\n",
              "      gap: 12px;\n",
              "    }\n",
              "\n",
              "    .colab-df-convert {\n",
              "      background-color: #E8F0FE;\n",
              "      border: none;\n",
              "      border-radius: 50%;\n",
              "      cursor: pointer;\n",
              "      display: none;\n",
              "      fill: #1967D2;\n",
              "      height: 32px;\n",
              "      padding: 0 0 0 0;\n",
              "      width: 32px;\n",
              "    }\n",
              "\n",
              "    .colab-df-convert:hover {\n",
              "      background-color: #E2EBFA;\n",
              "      box-shadow: 0px 1px 2px rgba(60, 64, 67, 0.3), 0px 1px 3px 1px rgba(60, 64, 67, 0.15);\n",
              "      fill: #174EA6;\n",
              "    }\n",
              "\n",
              "    .colab-df-buttons div {\n",
              "      margin-bottom: 4px;\n",
              "    }\n",
              "\n",
              "    [theme=dark] .colab-df-convert {\n",
              "      background-color: #3B4455;\n",
              "      fill: #D2E3FC;\n",
              "    }\n",
              "\n",
              "    [theme=dark] .colab-df-convert:hover {\n",
              "      background-color: #434B5C;\n",
              "      box-shadow: 0px 1px 3px 1px rgba(0, 0, 0, 0.15);\n",
              "      filter: drop-shadow(0px 1px 2px rgba(0, 0, 0, 0.3));\n",
              "      fill: #FFFFFF;\n",
              "    }\n",
              "  </style>\n",
              "\n",
              "    <script>\n",
              "      const buttonEl =\n",
              "        document.querySelector('#df-a10b4573-3174-483a-ae01-49af384adee1 button.colab-df-convert');\n",
              "      buttonEl.style.display =\n",
              "        google.colab.kernel.accessAllowed ? 'block' : 'none';\n",
              "\n",
              "      async function convertToInteractive(key) {\n",
              "        const element = document.querySelector('#df-a10b4573-3174-483a-ae01-49af384adee1');\n",
              "        const dataTable =\n",
              "          await google.colab.kernel.invokeFunction('convertToInteractive',\n",
              "                                                    [key], {});\n",
              "        if (!dataTable) return;\n",
              "\n",
              "        const docLinkHtml = 'Like what you see? Visit the ' +\n",
              "          '<a target=\"_blank\" href=https://colab.research.google.com/notebooks/data_table.ipynb>data table notebook</a>'\n",
              "          + ' to learn more about interactive tables.';\n",
              "        element.innerHTML = '';\n",
              "        dataTable['output_type'] = 'display_data';\n",
              "        await google.colab.output.renderOutput(dataTable, element);\n",
              "        const docLink = document.createElement('div');\n",
              "        docLink.innerHTML = docLinkHtml;\n",
              "        element.appendChild(docLink);\n",
              "      }\n",
              "    </script>\n",
              "  </div>\n",
              "\n",
              "\n",
              "<div id=\"df-67a45db6-09a9-423a-b218-3256f32ab7f8\">\n",
              "  <button class=\"colab-df-quickchart\" onclick=\"quickchart('df-67a45db6-09a9-423a-b218-3256f32ab7f8')\"\n",
              "            title=\"Suggest charts.\"\n",
              "            style=\"display:none;\">\n",
              "\n",
              "<svg xmlns=\"http://www.w3.org/2000/svg\" height=\"24px\"viewBox=\"0 0 24 24\"\n",
              "     width=\"24px\">\n",
              "    <g>\n",
              "        <path d=\"M19 3H5c-1.1 0-2 .9-2 2v14c0 1.1.9 2 2 2h14c1.1 0 2-.9 2-2V5c0-1.1-.9-2-2-2zM9 17H7v-7h2v7zm4 0h-2V7h2v10zm4 0h-2v-4h2v4z\"/>\n",
              "    </g>\n",
              "</svg>\n",
              "  </button>\n",
              "\n",
              "<style>\n",
              "  .colab-df-quickchart {\n",
              "      --bg-color: #E8F0FE;\n",
              "      --fill-color: #1967D2;\n",
              "      --hover-bg-color: #E2EBFA;\n",
              "      --hover-fill-color: #174EA6;\n",
              "      --disabled-fill-color: #AAA;\n",
              "      --disabled-bg-color: #DDD;\n",
              "  }\n",
              "\n",
              "  [theme=dark] .colab-df-quickchart {\n",
              "      --bg-color: #3B4455;\n",
              "      --fill-color: #D2E3FC;\n",
              "      --hover-bg-color: #434B5C;\n",
              "      --hover-fill-color: #FFFFFF;\n",
              "      --disabled-bg-color: #3B4455;\n",
              "      --disabled-fill-color: #666;\n",
              "  }\n",
              "\n",
              "  .colab-df-quickchart {\n",
              "    background-color: var(--bg-color);\n",
              "    border: none;\n",
              "    border-radius: 50%;\n",
              "    cursor: pointer;\n",
              "    display: none;\n",
              "    fill: var(--fill-color);\n",
              "    height: 32px;\n",
              "    padding: 0;\n",
              "    width: 32px;\n",
              "  }\n",
              "\n",
              "  .colab-df-quickchart:hover {\n",
              "    background-color: var(--hover-bg-color);\n",
              "    box-shadow: 0 1px 2px rgba(60, 64, 67, 0.3), 0 1px 3px 1px rgba(60, 64, 67, 0.15);\n",
              "    fill: var(--button-hover-fill-color);\n",
              "  }\n",
              "\n",
              "  .colab-df-quickchart-complete:disabled,\n",
              "  .colab-df-quickchart-complete:disabled:hover {\n",
              "    background-color: var(--disabled-bg-color);\n",
              "    fill: var(--disabled-fill-color);\n",
              "    box-shadow: none;\n",
              "  }\n",
              "\n",
              "  .colab-df-spinner {\n",
              "    border: 2px solid var(--fill-color);\n",
              "    border-color: transparent;\n",
              "    border-bottom-color: var(--fill-color);\n",
              "    animation:\n",
              "      spin 1s steps(1) infinite;\n",
              "  }\n",
              "\n",
              "  @keyframes spin {\n",
              "    0% {\n",
              "      border-color: transparent;\n",
              "      border-bottom-color: var(--fill-color);\n",
              "      border-left-color: var(--fill-color);\n",
              "    }\n",
              "    20% {\n",
              "      border-color: transparent;\n",
              "      border-left-color: var(--fill-color);\n",
              "      border-top-color: var(--fill-color);\n",
              "    }\n",
              "    30% {\n",
              "      border-color: transparent;\n",
              "      border-left-color: var(--fill-color);\n",
              "      border-top-color: var(--fill-color);\n",
              "      border-right-color: var(--fill-color);\n",
              "    }\n",
              "    40% {\n",
              "      border-color: transparent;\n",
              "      border-right-color: var(--fill-color);\n",
              "      border-top-color: var(--fill-color);\n",
              "    }\n",
              "    60% {\n",
              "      border-color: transparent;\n",
              "      border-right-color: var(--fill-color);\n",
              "    }\n",
              "    80% {\n",
              "      border-color: transparent;\n",
              "      border-right-color: var(--fill-color);\n",
              "      border-bottom-color: var(--fill-color);\n",
              "    }\n",
              "    90% {\n",
              "      border-color: transparent;\n",
              "      border-bottom-color: var(--fill-color);\n",
              "    }\n",
              "  }\n",
              "</style>\n",
              "\n",
              "  <script>\n",
              "    async function quickchart(key) {\n",
              "      const quickchartButtonEl =\n",
              "        document.querySelector('#' + key + ' button');\n",
              "      quickchartButtonEl.disabled = true;  // To prevent multiple clicks.\n",
              "      quickchartButtonEl.classList.add('colab-df-spinner');\n",
              "      try {\n",
              "        const charts = await google.colab.kernel.invokeFunction(\n",
              "            'suggestCharts', [key], {});\n",
              "      } catch (error) {\n",
              "        console.error('Error during call to suggestCharts:', error);\n",
              "      }\n",
              "      quickchartButtonEl.classList.remove('colab-df-spinner');\n",
              "      quickchartButtonEl.classList.add('colab-df-quickchart-complete');\n",
              "    }\n",
              "    (() => {\n",
              "      let quickchartButtonEl =\n",
              "        document.querySelector('#df-67a45db6-09a9-423a-b218-3256f32ab7f8 button');\n",
              "      quickchartButtonEl.style.display =\n",
              "        google.colab.kernel.accessAllowed ? 'block' : 'none';\n",
              "    })();\n",
              "  </script>\n",
              "</div>\n",
              "    </div>\n",
              "  </div>\n"
            ]
          },
          "metadata": {},
          "execution_count": 4
        }
      ],
      "source": [
        "df = df.drop(columns=['Title','Author','Poetry Foundation ID'])\n",
        "df.head()"
      ]
    },
    {
      "cell_type": "markdown",
      "source": [
        "Next we need to pre-process the poems, making sure they are not too long and the 'endline' characters are replaced with spaces. This makes sure the model will be more robust."
      ],
      "metadata": {
        "id": "hw_IEyki0X83"
      }
    },
    {
      "cell_type": "code",
      "execution_count": null,
      "metadata": {
        "id": "0qdss4Sb2Z9r",
        "colab": {
          "base_uri": "https://localhost:8080/",
          "height": 424
        },
        "outputId": "da035db7-c251-458a-9a3d-4aa74797a0f9"
      },
      "outputs": [
        {
          "output_type": "execute_result",
          "data": {
            "text/plain": [
              "                                                 Content\n",
              "0      Dear Writers, I’m compiling the first in what ...\n",
              "1      Philosophic in its complex, ovoid emptiness, a...\n",
              "2      We'd  like  to  talk  with  you  about  fear t...\n",
              "3      The Wise Men will unlearn your name. Above you...\n",
              "4      For Jack Collom 10 Things I do Every Day  play...\n",
              "...                                                  ...\n",
              "15647  It’s too cold to smoke outside, but if you com...\n",
              "15648  if you like let the body feel all its own evol...\n",
              "15649  (A fortune cookie) Ominous inscrutable Chinese...\n",
              "15650  1 Our last night in the house was not our last...\n",
              "15651  If your house is a dress it’ll fit like Los An...\n",
              "\n",
              "[12967 rows x 1 columns]"
            ],
            "text/html": [
              "\n",
              "  <div id=\"df-37d44838-90ee-4ab5-8728-4000a200ad6d\" class=\"colab-df-container\">\n",
              "    <div>\n",
              "<style scoped>\n",
              "    .dataframe tbody tr th:only-of-type {\n",
              "        vertical-align: middle;\n",
              "    }\n",
              "\n",
              "    .dataframe tbody tr th {\n",
              "        vertical-align: top;\n",
              "    }\n",
              "\n",
              "    .dataframe thead th {\n",
              "        text-align: right;\n",
              "    }\n",
              "</style>\n",
              "<table border=\"1\" class=\"dataframe\">\n",
              "  <thead>\n",
              "    <tr style=\"text-align: right;\">\n",
              "      <th></th>\n",
              "      <th>Content</th>\n",
              "    </tr>\n",
              "  </thead>\n",
              "  <tbody>\n",
              "    <tr>\n",
              "      <th>0</th>\n",
              "      <td>Dear Writers, I’m compiling the first in what ...</td>\n",
              "    </tr>\n",
              "    <tr>\n",
              "      <th>1</th>\n",
              "      <td>Philosophic in its complex, ovoid emptiness, a...</td>\n",
              "    </tr>\n",
              "    <tr>\n",
              "      <th>2</th>\n",
              "      <td>We'd  like  to  talk  with  you  about  fear t...</td>\n",
              "    </tr>\n",
              "    <tr>\n",
              "      <th>3</th>\n",
              "      <td>The Wise Men will unlearn your name. Above you...</td>\n",
              "    </tr>\n",
              "    <tr>\n",
              "      <th>4</th>\n",
              "      <td>For Jack Collom 10 Things I do Every Day  play...</td>\n",
              "    </tr>\n",
              "    <tr>\n",
              "      <th>...</th>\n",
              "      <td>...</td>\n",
              "    </tr>\n",
              "    <tr>\n",
              "      <th>15647</th>\n",
              "      <td>It’s too cold to smoke outside, but if you com...</td>\n",
              "    </tr>\n",
              "    <tr>\n",
              "      <th>15648</th>\n",
              "      <td>if you like let the body feel all its own evol...</td>\n",
              "    </tr>\n",
              "    <tr>\n",
              "      <th>15649</th>\n",
              "      <td>(A fortune cookie) Ominous inscrutable Chinese...</td>\n",
              "    </tr>\n",
              "    <tr>\n",
              "      <th>15650</th>\n",
              "      <td>1 Our last night in the house was not our last...</td>\n",
              "    </tr>\n",
              "    <tr>\n",
              "      <th>15651</th>\n",
              "      <td>If your house is a dress it’ll fit like Los An...</td>\n",
              "    </tr>\n",
              "  </tbody>\n",
              "</table>\n",
              "<p>12967 rows × 1 columns</p>\n",
              "</div>\n",
              "    <div class=\"colab-df-buttons\">\n",
              "\n",
              "  <div class=\"colab-df-container\">\n",
              "    <button class=\"colab-df-convert\" onclick=\"convertToInteractive('df-37d44838-90ee-4ab5-8728-4000a200ad6d')\"\n",
              "            title=\"Convert this dataframe to an interactive table.\"\n",
              "            style=\"display:none;\">\n",
              "\n",
              "  <svg xmlns=\"http://www.w3.org/2000/svg\" height=\"24px\" viewBox=\"0 -960 960 960\">\n",
              "    <path d=\"M120-120v-720h720v720H120Zm60-500h600v-160H180v160Zm220 220h160v-160H400v160Zm0 220h160v-160H400v160ZM180-400h160v-160H180v160Zm440 0h160v-160H620v160ZM180-180h160v-160H180v160Zm440 0h160v-160H620v160Z\"/>\n",
              "  </svg>\n",
              "    </button>\n",
              "\n",
              "  <style>\n",
              "    .colab-df-container {\n",
              "      display:flex;\n",
              "      gap: 12px;\n",
              "    }\n",
              "\n",
              "    .colab-df-convert {\n",
              "      background-color: #E8F0FE;\n",
              "      border: none;\n",
              "      border-radius: 50%;\n",
              "      cursor: pointer;\n",
              "      display: none;\n",
              "      fill: #1967D2;\n",
              "      height: 32px;\n",
              "      padding: 0 0 0 0;\n",
              "      width: 32px;\n",
              "    }\n",
              "\n",
              "    .colab-df-convert:hover {\n",
              "      background-color: #E2EBFA;\n",
              "      box-shadow: 0px 1px 2px rgba(60, 64, 67, 0.3), 0px 1px 3px 1px rgba(60, 64, 67, 0.15);\n",
              "      fill: #174EA6;\n",
              "    }\n",
              "\n",
              "    .colab-df-buttons div {\n",
              "      margin-bottom: 4px;\n",
              "    }\n",
              "\n",
              "    [theme=dark] .colab-df-convert {\n",
              "      background-color: #3B4455;\n",
              "      fill: #D2E3FC;\n",
              "    }\n",
              "\n",
              "    [theme=dark] .colab-df-convert:hover {\n",
              "      background-color: #434B5C;\n",
              "      box-shadow: 0px 1px 3px 1px rgba(0, 0, 0, 0.15);\n",
              "      filter: drop-shadow(0px 1px 2px rgba(0, 0, 0, 0.3));\n",
              "      fill: #FFFFFF;\n",
              "    }\n",
              "  </style>\n",
              "\n",
              "    <script>\n",
              "      const buttonEl =\n",
              "        document.querySelector('#df-37d44838-90ee-4ab5-8728-4000a200ad6d button.colab-df-convert');\n",
              "      buttonEl.style.display =\n",
              "        google.colab.kernel.accessAllowed ? 'block' : 'none';\n",
              "\n",
              "      async function convertToInteractive(key) {\n",
              "        const element = document.querySelector('#df-37d44838-90ee-4ab5-8728-4000a200ad6d');\n",
              "        const dataTable =\n",
              "          await google.colab.kernel.invokeFunction('convertToInteractive',\n",
              "                                                    [key], {});\n",
              "        if (!dataTable) return;\n",
              "\n",
              "        const docLinkHtml = 'Like what you see? Visit the ' +\n",
              "          '<a target=\"_blank\" href=https://colab.research.google.com/notebooks/data_table.ipynb>data table notebook</a>'\n",
              "          + ' to learn more about interactive tables.';\n",
              "        element.innerHTML = '';\n",
              "        dataTable['output_type'] = 'display_data';\n",
              "        await google.colab.output.renderOutput(dataTable, element);\n",
              "        const docLink = document.createElement('div');\n",
              "        docLink.innerHTML = docLinkHtml;\n",
              "        element.appendChild(docLink);\n",
              "      }\n",
              "    </script>\n",
              "  </div>\n",
              "\n",
              "\n",
              "<div id=\"df-f3440ec8-5399-4821-b8ac-d1271495f169\">\n",
              "  <button class=\"colab-df-quickchart\" onclick=\"quickchart('df-f3440ec8-5399-4821-b8ac-d1271495f169')\"\n",
              "            title=\"Suggest charts.\"\n",
              "            style=\"display:none;\">\n",
              "\n",
              "<svg xmlns=\"http://www.w3.org/2000/svg\" height=\"24px\"viewBox=\"0 0 24 24\"\n",
              "     width=\"24px\">\n",
              "    <g>\n",
              "        <path d=\"M19 3H5c-1.1 0-2 .9-2 2v14c0 1.1.9 2 2 2h14c1.1 0 2-.9 2-2V5c0-1.1-.9-2-2-2zM9 17H7v-7h2v7zm4 0h-2V7h2v10zm4 0h-2v-4h2v4z\"/>\n",
              "    </g>\n",
              "</svg>\n",
              "  </button>\n",
              "\n",
              "<style>\n",
              "  .colab-df-quickchart {\n",
              "      --bg-color: #E8F0FE;\n",
              "      --fill-color: #1967D2;\n",
              "      --hover-bg-color: #E2EBFA;\n",
              "      --hover-fill-color: #174EA6;\n",
              "      --disabled-fill-color: #AAA;\n",
              "      --disabled-bg-color: #DDD;\n",
              "  }\n",
              "\n",
              "  [theme=dark] .colab-df-quickchart {\n",
              "      --bg-color: #3B4455;\n",
              "      --fill-color: #D2E3FC;\n",
              "      --hover-bg-color: #434B5C;\n",
              "      --hover-fill-color: #FFFFFF;\n",
              "      --disabled-bg-color: #3B4455;\n",
              "      --disabled-fill-color: #666;\n",
              "  }\n",
              "\n",
              "  .colab-df-quickchart {\n",
              "    background-color: var(--bg-color);\n",
              "    border: none;\n",
              "    border-radius: 50%;\n",
              "    cursor: pointer;\n",
              "    display: none;\n",
              "    fill: var(--fill-color);\n",
              "    height: 32px;\n",
              "    padding: 0;\n",
              "    width: 32px;\n",
              "  }\n",
              "\n",
              "  .colab-df-quickchart:hover {\n",
              "    background-color: var(--hover-bg-color);\n",
              "    box-shadow: 0 1px 2px rgba(60, 64, 67, 0.3), 0 1px 3px 1px rgba(60, 64, 67, 0.15);\n",
              "    fill: var(--button-hover-fill-color);\n",
              "  }\n",
              "\n",
              "  .colab-df-quickchart-complete:disabled,\n",
              "  .colab-df-quickchart-complete:disabled:hover {\n",
              "    background-color: var(--disabled-bg-color);\n",
              "    fill: var(--disabled-fill-color);\n",
              "    box-shadow: none;\n",
              "  }\n",
              "\n",
              "  .colab-df-spinner {\n",
              "    border: 2px solid var(--fill-color);\n",
              "    border-color: transparent;\n",
              "    border-bottom-color: var(--fill-color);\n",
              "    animation:\n",
              "      spin 1s steps(1) infinite;\n",
              "  }\n",
              "\n",
              "  @keyframes spin {\n",
              "    0% {\n",
              "      border-color: transparent;\n",
              "      border-bottom-color: var(--fill-color);\n",
              "      border-left-color: var(--fill-color);\n",
              "    }\n",
              "    20% {\n",
              "      border-color: transparent;\n",
              "      border-left-color: var(--fill-color);\n",
              "      border-top-color: var(--fill-color);\n",
              "    }\n",
              "    30% {\n",
              "      border-color: transparent;\n",
              "      border-left-color: var(--fill-color);\n",
              "      border-top-color: var(--fill-color);\n",
              "      border-right-color: var(--fill-color);\n",
              "    }\n",
              "    40% {\n",
              "      border-color: transparent;\n",
              "      border-right-color: var(--fill-color);\n",
              "      border-top-color: var(--fill-color);\n",
              "    }\n",
              "    60% {\n",
              "      border-color: transparent;\n",
              "      border-right-color: var(--fill-color);\n",
              "    }\n",
              "    80% {\n",
              "      border-color: transparent;\n",
              "      border-right-color: var(--fill-color);\n",
              "      border-bottom-color: var(--fill-color);\n",
              "    }\n",
              "    90% {\n",
              "      border-color: transparent;\n",
              "      border-bottom-color: var(--fill-color);\n",
              "    }\n",
              "  }\n",
              "</style>\n",
              "\n",
              "  <script>\n",
              "    async function quickchart(key) {\n",
              "      const quickchartButtonEl =\n",
              "        document.querySelector('#' + key + ' button');\n",
              "      quickchartButtonEl.disabled = true;  // To prevent multiple clicks.\n",
              "      quickchartButtonEl.classList.add('colab-df-spinner');\n",
              "      try {\n",
              "        const charts = await google.colab.kernel.invokeFunction(\n",
              "            'suggestCharts', [key], {});\n",
              "      } catch (error) {\n",
              "        console.error('Error during call to suggestCharts:', error);\n",
              "      }\n",
              "      quickchartButtonEl.classList.remove('colab-df-spinner');\n",
              "      quickchartButtonEl.classList.add('colab-df-quickchart-complete');\n",
              "    }\n",
              "    (() => {\n",
              "      let quickchartButtonEl =\n",
              "        document.querySelector('#df-f3440ec8-5399-4821-b8ac-d1271495f169 button');\n",
              "      quickchartButtonEl.style.display =\n",
              "        google.colab.kernel.accessAllowed ? 'block' : 'none';\n",
              "    })();\n",
              "  </script>\n",
              "</div>\n",
              "    </div>\n",
              "  </div>\n"
            ]
          },
          "metadata": {},
          "execution_count": 5
        }
      ],
      "source": [
        "df['Content']= df['Content'].str.replace('\\n',' ')\n",
        "df = df[df['Content'].apply(lambda x: len(x.split(' ')) < 350)]\n",
        "df"
      ]
    },
    {
      "cell_type": "markdown",
      "source": [
        "The title of the column is renamed for better understanding in later use."
      ],
      "metadata": {
        "id": "C12m9R7C0tRb"
      }
    },
    {
      "cell_type": "code",
      "execution_count": null,
      "metadata": {
        "id": "-2VXhwd-7MTx",
        "colab": {
          "base_uri": "https://localhost:8080/",
          "height": 424
        },
        "outputId": "fabeb198-9df3-46b1-d9d5-3b9d76f16541"
      },
      "outputs": [
        {
          "output_type": "execute_result",
          "data": {
            "text/plain": [
              "                                                   Poems\n",
              "0      Dear Writers, I’m compiling the first in what ...\n",
              "1      Philosophic in its complex, ovoid emptiness, a...\n",
              "2      We'd  like  to  talk  with  you  about  fear t...\n",
              "3      The Wise Men will unlearn your name. Above you...\n",
              "4      For Jack Collom 10 Things I do Every Day  play...\n",
              "...                                                  ...\n",
              "15647  It’s too cold to smoke outside, but if you com...\n",
              "15648  if you like let the body feel all its own evol...\n",
              "15649  (A fortune cookie) Ominous inscrutable Chinese...\n",
              "15650  1 Our last night in the house was not our last...\n",
              "15651  If your house is a dress it’ll fit like Los An...\n",
              "\n",
              "[12967 rows x 1 columns]"
            ],
            "text/html": [
              "\n",
              "  <div id=\"df-ef71dd17-7104-44ff-8366-5397c059a3fd\" class=\"colab-df-container\">\n",
              "    <div>\n",
              "<style scoped>\n",
              "    .dataframe tbody tr th:only-of-type {\n",
              "        vertical-align: middle;\n",
              "    }\n",
              "\n",
              "    .dataframe tbody tr th {\n",
              "        vertical-align: top;\n",
              "    }\n",
              "\n",
              "    .dataframe thead th {\n",
              "        text-align: right;\n",
              "    }\n",
              "</style>\n",
              "<table border=\"1\" class=\"dataframe\">\n",
              "  <thead>\n",
              "    <tr style=\"text-align: right;\">\n",
              "      <th></th>\n",
              "      <th>Poems</th>\n",
              "    </tr>\n",
              "  </thead>\n",
              "  <tbody>\n",
              "    <tr>\n",
              "      <th>0</th>\n",
              "      <td>Dear Writers, I’m compiling the first in what ...</td>\n",
              "    </tr>\n",
              "    <tr>\n",
              "      <th>1</th>\n",
              "      <td>Philosophic in its complex, ovoid emptiness, a...</td>\n",
              "    </tr>\n",
              "    <tr>\n",
              "      <th>2</th>\n",
              "      <td>We'd  like  to  talk  with  you  about  fear t...</td>\n",
              "    </tr>\n",
              "    <tr>\n",
              "      <th>3</th>\n",
              "      <td>The Wise Men will unlearn your name. Above you...</td>\n",
              "    </tr>\n",
              "    <tr>\n",
              "      <th>4</th>\n",
              "      <td>For Jack Collom 10 Things I do Every Day  play...</td>\n",
              "    </tr>\n",
              "    <tr>\n",
              "      <th>...</th>\n",
              "      <td>...</td>\n",
              "    </tr>\n",
              "    <tr>\n",
              "      <th>15647</th>\n",
              "      <td>It’s too cold to smoke outside, but if you com...</td>\n",
              "    </tr>\n",
              "    <tr>\n",
              "      <th>15648</th>\n",
              "      <td>if you like let the body feel all its own evol...</td>\n",
              "    </tr>\n",
              "    <tr>\n",
              "      <th>15649</th>\n",
              "      <td>(A fortune cookie) Ominous inscrutable Chinese...</td>\n",
              "    </tr>\n",
              "    <tr>\n",
              "      <th>15650</th>\n",
              "      <td>1 Our last night in the house was not our last...</td>\n",
              "    </tr>\n",
              "    <tr>\n",
              "      <th>15651</th>\n",
              "      <td>If your house is a dress it’ll fit like Los An...</td>\n",
              "    </tr>\n",
              "  </tbody>\n",
              "</table>\n",
              "<p>12967 rows × 1 columns</p>\n",
              "</div>\n",
              "    <div class=\"colab-df-buttons\">\n",
              "\n",
              "  <div class=\"colab-df-container\">\n",
              "    <button class=\"colab-df-convert\" onclick=\"convertToInteractive('df-ef71dd17-7104-44ff-8366-5397c059a3fd')\"\n",
              "            title=\"Convert this dataframe to an interactive table.\"\n",
              "            style=\"display:none;\">\n",
              "\n",
              "  <svg xmlns=\"http://www.w3.org/2000/svg\" height=\"24px\" viewBox=\"0 -960 960 960\">\n",
              "    <path d=\"M120-120v-720h720v720H120Zm60-500h600v-160H180v160Zm220 220h160v-160H400v160Zm0 220h160v-160H400v160ZM180-400h160v-160H180v160Zm440 0h160v-160H620v160ZM180-180h160v-160H180v160Zm440 0h160v-160H620v160Z\"/>\n",
              "  </svg>\n",
              "    </button>\n",
              "\n",
              "  <style>\n",
              "    .colab-df-container {\n",
              "      display:flex;\n",
              "      gap: 12px;\n",
              "    }\n",
              "\n",
              "    .colab-df-convert {\n",
              "      background-color: #E8F0FE;\n",
              "      border: none;\n",
              "      border-radius: 50%;\n",
              "      cursor: pointer;\n",
              "      display: none;\n",
              "      fill: #1967D2;\n",
              "      height: 32px;\n",
              "      padding: 0 0 0 0;\n",
              "      width: 32px;\n",
              "    }\n",
              "\n",
              "    .colab-df-convert:hover {\n",
              "      background-color: #E2EBFA;\n",
              "      box-shadow: 0px 1px 2px rgba(60, 64, 67, 0.3), 0px 1px 3px 1px rgba(60, 64, 67, 0.15);\n",
              "      fill: #174EA6;\n",
              "    }\n",
              "\n",
              "    .colab-df-buttons div {\n",
              "      margin-bottom: 4px;\n",
              "    }\n",
              "\n",
              "    [theme=dark] .colab-df-convert {\n",
              "      background-color: #3B4455;\n",
              "      fill: #D2E3FC;\n",
              "    }\n",
              "\n",
              "    [theme=dark] .colab-df-convert:hover {\n",
              "      background-color: #434B5C;\n",
              "      box-shadow: 0px 1px 3px 1px rgba(0, 0, 0, 0.15);\n",
              "      filter: drop-shadow(0px 1px 2px rgba(0, 0, 0, 0.3));\n",
              "      fill: #FFFFFF;\n",
              "    }\n",
              "  </style>\n",
              "\n",
              "    <script>\n",
              "      const buttonEl =\n",
              "        document.querySelector('#df-ef71dd17-7104-44ff-8366-5397c059a3fd button.colab-df-convert');\n",
              "      buttonEl.style.display =\n",
              "        google.colab.kernel.accessAllowed ? 'block' : 'none';\n",
              "\n",
              "      async function convertToInteractive(key) {\n",
              "        const element = document.querySelector('#df-ef71dd17-7104-44ff-8366-5397c059a3fd');\n",
              "        const dataTable =\n",
              "          await google.colab.kernel.invokeFunction('convertToInteractive',\n",
              "                                                    [key], {});\n",
              "        if (!dataTable) return;\n",
              "\n",
              "        const docLinkHtml = 'Like what you see? Visit the ' +\n",
              "          '<a target=\"_blank\" href=https://colab.research.google.com/notebooks/data_table.ipynb>data table notebook</a>'\n",
              "          + ' to learn more about interactive tables.';\n",
              "        element.innerHTML = '';\n",
              "        dataTable['output_type'] = 'display_data';\n",
              "        await google.colab.output.renderOutput(dataTable, element);\n",
              "        const docLink = document.createElement('div');\n",
              "        docLink.innerHTML = docLinkHtml;\n",
              "        element.appendChild(docLink);\n",
              "      }\n",
              "    </script>\n",
              "  </div>\n",
              "\n",
              "\n",
              "<div id=\"df-d1051d84-eb13-4e88-8edb-e5508978f50f\">\n",
              "  <button class=\"colab-df-quickchart\" onclick=\"quickchart('df-d1051d84-eb13-4e88-8edb-e5508978f50f')\"\n",
              "            title=\"Suggest charts.\"\n",
              "            style=\"display:none;\">\n",
              "\n",
              "<svg xmlns=\"http://www.w3.org/2000/svg\" height=\"24px\"viewBox=\"0 0 24 24\"\n",
              "     width=\"24px\">\n",
              "    <g>\n",
              "        <path d=\"M19 3H5c-1.1 0-2 .9-2 2v14c0 1.1.9 2 2 2h14c1.1 0 2-.9 2-2V5c0-1.1-.9-2-2-2zM9 17H7v-7h2v7zm4 0h-2V7h2v10zm4 0h-2v-4h2v4z\"/>\n",
              "    </g>\n",
              "</svg>\n",
              "  </button>\n",
              "\n",
              "<style>\n",
              "  .colab-df-quickchart {\n",
              "      --bg-color: #E8F0FE;\n",
              "      --fill-color: #1967D2;\n",
              "      --hover-bg-color: #E2EBFA;\n",
              "      --hover-fill-color: #174EA6;\n",
              "      --disabled-fill-color: #AAA;\n",
              "      --disabled-bg-color: #DDD;\n",
              "  }\n",
              "\n",
              "  [theme=dark] .colab-df-quickchart {\n",
              "      --bg-color: #3B4455;\n",
              "      --fill-color: #D2E3FC;\n",
              "      --hover-bg-color: #434B5C;\n",
              "      --hover-fill-color: #FFFFFF;\n",
              "      --disabled-bg-color: #3B4455;\n",
              "      --disabled-fill-color: #666;\n",
              "  }\n",
              "\n",
              "  .colab-df-quickchart {\n",
              "    background-color: var(--bg-color);\n",
              "    border: none;\n",
              "    border-radius: 50%;\n",
              "    cursor: pointer;\n",
              "    display: none;\n",
              "    fill: var(--fill-color);\n",
              "    height: 32px;\n",
              "    padding: 0;\n",
              "    width: 32px;\n",
              "  }\n",
              "\n",
              "  .colab-df-quickchart:hover {\n",
              "    background-color: var(--hover-bg-color);\n",
              "    box-shadow: 0 1px 2px rgba(60, 64, 67, 0.3), 0 1px 3px 1px rgba(60, 64, 67, 0.15);\n",
              "    fill: var(--button-hover-fill-color);\n",
              "  }\n",
              "\n",
              "  .colab-df-quickchart-complete:disabled,\n",
              "  .colab-df-quickchart-complete:disabled:hover {\n",
              "    background-color: var(--disabled-bg-color);\n",
              "    fill: var(--disabled-fill-color);\n",
              "    box-shadow: none;\n",
              "  }\n",
              "\n",
              "  .colab-df-spinner {\n",
              "    border: 2px solid var(--fill-color);\n",
              "    border-color: transparent;\n",
              "    border-bottom-color: var(--fill-color);\n",
              "    animation:\n",
              "      spin 1s steps(1) infinite;\n",
              "  }\n",
              "\n",
              "  @keyframes spin {\n",
              "    0% {\n",
              "      border-color: transparent;\n",
              "      border-bottom-color: var(--fill-color);\n",
              "      border-left-color: var(--fill-color);\n",
              "    }\n",
              "    20% {\n",
              "      border-color: transparent;\n",
              "      border-left-color: var(--fill-color);\n",
              "      border-top-color: var(--fill-color);\n",
              "    }\n",
              "    30% {\n",
              "      border-color: transparent;\n",
              "      border-left-color: var(--fill-color);\n",
              "      border-top-color: var(--fill-color);\n",
              "      border-right-color: var(--fill-color);\n",
              "    }\n",
              "    40% {\n",
              "      border-color: transparent;\n",
              "      border-right-color: var(--fill-color);\n",
              "      border-top-color: var(--fill-color);\n",
              "    }\n",
              "    60% {\n",
              "      border-color: transparent;\n",
              "      border-right-color: var(--fill-color);\n",
              "    }\n",
              "    80% {\n",
              "      border-color: transparent;\n",
              "      border-right-color: var(--fill-color);\n",
              "      border-bottom-color: var(--fill-color);\n",
              "    }\n",
              "    90% {\n",
              "      border-color: transparent;\n",
              "      border-bottom-color: var(--fill-color);\n",
              "    }\n",
              "  }\n",
              "</style>\n",
              "\n",
              "  <script>\n",
              "    async function quickchart(key) {\n",
              "      const quickchartButtonEl =\n",
              "        document.querySelector('#' + key + ' button');\n",
              "      quickchartButtonEl.disabled = true;  // To prevent multiple clicks.\n",
              "      quickchartButtonEl.classList.add('colab-df-spinner');\n",
              "      try {\n",
              "        const charts = await google.colab.kernel.invokeFunction(\n",
              "            'suggestCharts', [key], {});\n",
              "      } catch (error) {\n",
              "        console.error('Error during call to suggestCharts:', error);\n",
              "      }\n",
              "      quickchartButtonEl.classList.remove('colab-df-spinner');\n",
              "      quickchartButtonEl.classList.add('colab-df-quickchart-complete');\n",
              "    }\n",
              "    (() => {\n",
              "      let quickchartButtonEl =\n",
              "        document.querySelector('#df-d1051d84-eb13-4e88-8edb-e5508978f50f button');\n",
              "      quickchartButtonEl.style.display =\n",
              "        google.colab.kernel.accessAllowed ? 'block' : 'none';\n",
              "    })();\n",
              "  </script>\n",
              "</div>\n",
              "    </div>\n",
              "  </div>\n"
            ]
          },
          "metadata": {},
          "execution_count": 6
        }
      ],
      "source": [
        "df = df.rename(columns={'Content':'Poems'})\n",
        "df = df.dropna()\n",
        "df"
      ]
    },
    {
      "cell_type": "markdown",
      "source": [
        "A small test is done to see if everything looks correct when taking a sample of the bigger dataset."
      ],
      "metadata": {
        "id": "mEFpBt2O1XnB"
      }
    },
    {
      "cell_type": "code",
      "execution_count": null,
      "metadata": {
        "id": "owHtiM7u6SfX"
      },
      "outputs": [],
      "source": [
        "test_set = df.sample(n = 200)\n",
        "df = df.loc[~df.index.isin(test_set.index)]\n",
        "\n",
        "test_set = test_set.reset_index()\n",
        "df = df.reset_index()\n",
        "\n",
        "#test_set['True_end_lyrics'] = test_set['Lyric'].str.split().str[-20:].apply(' '.join)\n",
        "#test_set['Lyric'] = test_set['Lyric'].str.split().str[:-20].apply(' '.join)"
      ]
    },
    {
      "cell_type": "markdown",
      "metadata": {
        "id": "6ZcgGHRlZrke"
      },
      "source": [
        "## GTP2 Model"
      ]
    },
    {
      "cell_type": "markdown",
      "source": [
        "First the right packages have to be installed"
      ],
      "metadata": {
        "id": "49o9U-XtQp_l"
      }
    },
    {
      "cell_type": "code",
      "execution_count": null,
      "metadata": {
        "id": "4b5qoTFbhvrx"
      },
      "outputs": [],
      "source": [
        "!pip install transformers[torch]\n",
        "from transformers import pipeline, set_seed"
      ]
    },
    {
      "cell_type": "code",
      "execution_count": null,
      "metadata": {
        "id": "AOKrzZ7k5dgk"
      },
      "outputs": [],
      "source": [
        "import numpy as np\n",
        "import random\n",
        "import torch\n",
        "from torch.utils.data import Dataset, DataLoader\n",
        "from transformers import GPT2Tokenizer, GPT2LMHeadModel, AdamW, get_linear_schedule_with_warmup\n",
        "from tqdm import tqdm, trange\n",
        "import torch.nn.functional as F\n",
        "import csv"
      ]
    },
    {
      "cell_type": "markdown",
      "source": [
        "Next the poems have to be tokenized so the sentences are in a format which can be used as input by the model."
      ],
      "metadata": {
        "id": "BKRl1zZz3M2a"
      }
    },
    {
      "cell_type": "code",
      "execution_count": null,
      "metadata": {
        "id": "6Ul0FEdb5zXm"
      },
      "outputs": [],
      "source": [
        "class PoemsDataset(Dataset):\n",
        "    def __init__(self, control_code, truncate=False, gpt2_type=\"gpt2\", max_length=1024):\n",
        "\n",
        "        self.tokenizer = GPT2Tokenizer.from_pretrained(gpt2_type)\n",
        "        self.poems = []\n",
        "\n",
        "        for row in df['Poems']:\n",
        "          self.poems.append(torch.tensor(\n",
        "                self.tokenizer.encode(f\"<|{control_code}|>{row[:max_length]}<|endoftext|>\")\n",
        "            ))\n",
        "        if truncate:\n",
        "            self.poems = self.poems[:20000]\n",
        "        self.poems_count = len(self.poems)\n",
        "\n",
        "    def __len__(self):\n",
        "        return self.poems_count\n",
        "\n",
        "    def __getitem__(self, item):\n",
        "        return self.poems[item]\n",
        "\n",
        "dataset = PoemsDataset(df['Poems'], truncate=True, gpt2_type=\"gpt2\")"
      ]
    },
    {
      "cell_type": "markdown",
      "source": [
        "Now we can aquire a pre-trained model. This is done in batches since the GPT2 model is very big.\n",
        "\n",
        "\n"
      ],
      "metadata": {
        "id": "tiQyZhrS4JXN"
      }
    },
    {
      "cell_type": "code",
      "execution_count": null,
      "metadata": {
        "id": "XbP9Z3kF4aY8"
      },
      "outputs": [],
      "source": [
        "#Get the tokenizer and model\n",
        "tokenizer = GPT2Tokenizer.from_pretrained('gpt2')\n",
        "model = GPT2LMHeadModel.from_pretrained('gpt2')\n",
        "\n",
        "#Accumulated batch size (since GPT2 is so big)\n",
        "def pack_tensor(new_tensor, packed_tensor, max_seq_len):\n",
        "    if packed_tensor is None:\n",
        "        return new_tensor, True, None\n",
        "    if new_tensor.size()[1] + packed_tensor.size()[1] > max_seq_len:\n",
        "        return packed_tensor, False, new_tensor\n",
        "    else:\n",
        "        packed_tensor = torch.cat([new_tensor, packed_tensor[:, 1:]], dim=1)\n",
        "        return packed_tensor, True, None"
      ]
    },
    {
      "cell_type": "markdown",
      "source": [
        "### Fine Tune the model\n",
        "\n",
        "After having aquired the model we can fine tune it so its output better represents the poems that we try to make and their requirements."
      ],
      "metadata": {
        "id": "E237ht0pEVYN"
      }
    },
    {
      "cell_type": "code",
      "execution_count": null,
      "metadata": {
        "id": "9WaofbuE4tZu"
      },
      "outputs": [],
      "source": [
        "def train(\n",
        "    dataset, model, tokenizer,\n",
        "    batch_size=16, epochs=5, lr=2e-5,\n",
        "    max_seq_len=400, warmup_steps=200,\n",
        "    gpt2_type=\"gpt2\", output_dir=\".\", output_prefix=\"wreckgar\",\n",
        "    test_mode=False,save_model_on_epoch=False,\n",
        "):\n",
        "    acc_steps = 100\n",
        "    device=torch.device(\"cuda\")\n",
        "    model = model.cuda()\n",
        "    model.train()\n",
        "\n",
        "    optimizer = AdamW(model.parameters(), lr=lr)\n",
        "    scheduler = get_linear_schedule_with_warmup(\n",
        "        optimizer, num_warmup_steps=warmup_steps, num_training_steps=-1\n",
        "    )\n",
        "\n",
        "    train_dataloader = DataLoader(dataset, batch_size=1, shuffle=True)\n",
        "    loss=0\n",
        "    accumulating_batch_count = 0\n",
        "    input_tensor = None\n",
        "\n",
        "    for epoch in range(epochs):\n",
        "\n",
        "        print(f\"Training epoch {epoch}\")\n",
        "        print(loss)\n",
        "        for idx, entry in tqdm(enumerate(train_dataloader)):\n",
        "            (input_tensor, carry_on, remainder) = pack_tensor(entry, input_tensor, 768)\n",
        "\n",
        "            if carry_on and idx != len(train_dataloader) - 1:\n",
        "                continue\n",
        "\n",
        "            input_tensor = input_tensor.to(device)\n",
        "            outputs = model(input_tensor, labels=input_tensor)\n",
        "            loss = outputs[0]\n",
        "            loss.backward()\n",
        "\n",
        "            if (accumulating_batch_count % batch_size) == 0:\n",
        "                optimizer.step()\n",
        "                scheduler.step()\n",
        "                optimizer.zero_grad()\n",
        "                model.zero_grad()\n",
        "\n",
        "            accumulating_batch_count += 1\n",
        "            input_tensor = None\n",
        "        if save_model_on_epoch:\n",
        "            torch.save(\n",
        "                model.state_dict(),\n",
        "                os.path.join(output_dir, f\"{output_prefix}-{epoch}.pt\"),\n",
        "            )\n",
        "    return model"
      ]
    },
    {
      "cell_type": "markdown",
      "source": [
        "Having set the parameters and connected the dataset we just have to train the model with the following line of code."
      ],
      "metadata": {
        "id": "fhK63iQa6QXm"
      }
    },
    {
      "cell_type": "code",
      "execution_count": null,
      "metadata": {
        "id": "jwEo_jrC4yaM"
      },
      "outputs": [],
      "source": [
        "model = train(dataset, model, tokenizer)"
      ]
    },
    {
      "cell_type": "markdown",
      "source": [
        "Training can take a long time, so saving a trained model comes in handy when you dont want to retrain your model every time you want it to generate poems."
      ],
      "metadata": {
        "id": "sYzc9yij6au7"
      }
    },
    {
      "cell_type": "code",
      "execution_count": null,
      "metadata": {
        "id": "Vl_N6R5Hegqx"
      },
      "outputs": [],
      "source": [
        "torch.save(model, '/content/drive/MyDrive/checkpoint_whole.pth')"
      ]
    },
    {
      "cell_type": "markdown",
      "source": [
        "### Generate the poem"
      ],
      "metadata": {
        "id": "ZsogAwElEbr3"
      }
    },
    {
      "cell_type": "markdown",
      "source": [
        "when you have a saved model, you first have to load it back into the data."
      ],
      "metadata": {
        "id": "y2mjraQ66sjh"
      }
    },
    {
      "cell_type": "code",
      "execution_count": null,
      "metadata": {
        "id": "fHCJqh7BpzpT"
      },
      "outputs": [],
      "source": [
        "model = torch.load('/content/drive/MyDrive/checkpoint_whole.pth')"
      ]
    },
    {
      "cell_type": "markdown",
      "source": [
        "After having loaded the model  we can generate the poem. Right now it will always generate an output of 50 words, which can manually be hightened or lowered. Because it is difficult to see in code when a scentence is finished we chose to manually prune unfinished sentences."
      ],
      "metadata": {
        "id": "IcLS4tTI68o6"
      }
    },
    {
      "cell_type": "code",
      "execution_count": null,
      "metadata": {
        "id": "d5jqIT-U48EO"
      },
      "outputs": [],
      "source": [
        "def generate(\n",
        "    model,\n",
        "    tokenizer,\n",
        "    prompt,\n",
        "    entry_count=1, ####\n",
        "    entry_length=50, #####maximum number of words\n",
        "    top_p=0.8,\n",
        "    temperature=1.,\n",
        "):\n",
        "    model.eval()\n",
        "    generated_num = 0\n",
        "    generated_list = []\n",
        "\n",
        "    filter_value = -float(\"Inf\")\n",
        "\n",
        "    with torch.no_grad():\n",
        "\n",
        "        for entry_idx in trange(entry_count):\n",
        "\n",
        "            entry_finished = False\n",
        "            generated = torch.tensor(tokenizer.encode(prompt)).unsqueeze(0)\n",
        "\n",
        "            for i in range(entry_length):\n",
        "                outputs = model(generated, labels=generated)\n",
        "                loss, logits = outputs[:2]\n",
        "                logits = logits[:, -1, :] / (temperature if temperature > 0 else 1.0)\n",
        "\n",
        "                sorted_logits, sorted_indices = torch.sort(logits, descending=True)\n",
        "                cumulative_probs = torch.cumsum(F.softmax(sorted_logits, dim=-1), dim=-1)\n",
        "\n",
        "                sorted_indices_to_remove = cumulative_probs > top_p\n",
        "                sorted_indices_to_remove[..., 1:] = sorted_indices_to_remove[\n",
        "                    ..., :-1\n",
        "                ].clone()\n",
        "                sorted_indices_to_remove[..., 0] = 0\n",
        "\n",
        "                indices_to_remove = sorted_indices[sorted_indices_to_remove]\n",
        "                logits[:, indices_to_remove] = filter_value\n",
        "\n",
        "                next_token = torch.multinomial(F.softmax(logits, dim=-1), num_samples=1)\n",
        "                generated = torch.cat((generated, next_token), dim=1)\n",
        "\n",
        "                if next_token in tokenizer.encode(\"<|endoftext|>\"):\n",
        "                    entry_finished = True\n",
        "\n",
        "                if entry_finished:\n",
        "\n",
        "                    generated_num = generated_num + 1\n",
        "\n",
        "                    output_list = list(generated.squeeze().numpy())\n",
        "                    output_text = tokenizer.decode(output_list)\n",
        "                    generated_list.append(output_text)\n",
        "                    break\n",
        "\n",
        "            if not entry_finished:\n",
        "              output_list = list(generated.squeeze().numpy())\n",
        "              output_text = f\"{tokenizer.decode(output_list)}<|endoftext|>\"\n",
        "              generated_list.append(output_text)\n",
        "\n",
        "    return generated_list\n",
        "\n",
        "#Function to generate multiple sentences. Test data should be a dataframe\n",
        "def text_generation(test_data):\n",
        "  generated_poems = []\n",
        "  for i in range(len(test_data)):\n",
        "    if test_data['Poems'][i]:\n",
        "      x = generate(model, tokenizer, test_data['Poems'][i], entry_count=1)\n",
        "    generated_poems.append(x)\n",
        "  return generated_poems\n",
        "\n",
        "#Run the functions to generate the lyrics\n",
        "#generated_poems = text_generation(test_set)"
      ]
    },
    {
      "cell_type": "markdown",
      "source": [
        "#### examples\n",
        "\n",
        "Next follow some examples of inputs which can be given to the model, each having their own unique output every time you run one of these examples."
      ],
      "metadata": {
        "id": "QCBCG3Lm8WUP"
      }
    },
    {
      "cell_type": "code",
      "source": [
        "text = \"Classical.\"\n",
        "\n",
        "x = generate(model.to('cpu'), tokenizer, text, entry_count=1)\n",
        "x"
      ],
      "metadata": {
        "id": "x3cqOqvbEo5Y"
      },
      "execution_count": null,
      "outputs": []
    },
    {
      "cell_type": "code",
      "source": [
        "text = \"Write me an classical poem.\"\n",
        "\n",
        "x = generate(model.to('cpu'), tokenizer, text, entry_count=1)\n",
        "x"
      ],
      "metadata": {
        "id": "tXzOKk_RFPYT"
      },
      "execution_count": null,
      "outputs": []
    },
    {
      "cell_type": "code",
      "source": [
        "text = \"A moderm Poem Looks like this:\"\n",
        "\n",
        "x = generate(model.to('cpu'), tokenizer, text, entry_count=1)\n",
        "x"
      ],
      "metadata": {
        "id": "3fMqpxQMIcXR"
      },
      "execution_count": null,
      "outputs": []
    },
    {
      "cell_type": "code",
      "source": [
        "text = \"A Medival Poem Looks like this:\"\n",
        "\n",
        "x = generate(model.to('cpu'), tokenizer, text, entry_count=1)\n",
        "x"
      ],
      "metadata": {
        "id": "KQIJzrCBJJm1"
      },
      "execution_count": null,
      "outputs": []
    },
    {
      "cell_type": "code",
      "source": [
        "text = \"The most creative poem in the world is written as follows:\"\n",
        "\n",
        "x = generate(model.to('cpu'), tokenizer, text, entry_count=1)\n",
        "x"
      ],
      "metadata": {
        "id": "jWBd_CmbJi-E"
      },
      "execution_count": null,
      "outputs": []
    },
    {
      "cell_type": "code",
      "source": [
        "text = \"The most interesing poem in the world is written as follows:\"\n",
        "\n",
        "x = generate(model.to('cpu'), tokenizer, text, entry_count=1)\n",
        "x"
      ],
      "metadata": {
        "id": "b3J6BJpNJ_vD"
      },
      "execution_count": null,
      "outputs": []
    },
    {
      "cell_type": "code",
      "source": [
        "text = \"The most lovely poem about winter is writtem as follows:\"\n",
        "\n",
        "x = generate(model.to('cpu'), tokenizer, text, entry_count=1)\n",
        "x"
      ],
      "metadata": {
        "id": "R9-PlqZG4mwJ"
      },
      "execution_count": null,
      "outputs": []
    },
    {
      "cell_type": "markdown",
      "source": [
        "! It should be noted that the model is based on a pretrained language model where the training data is far betond only poem. Although we further fine-tuned it using the complete poetry foundation dataset, it may still produce non-poem text.\n",
        "\n",
        "To reduce the possiblity of such situations, it is recommended to include the keyword \"poem\" when inputting command, and we suggest follow the same format as we did above, for example, \"The most adj. poem about noun. is written as follows:\""
      ],
      "metadata": {
        "id": "JhsKy2hYAB4K"
      }
    },
    {
      "cell_type": "markdown",
      "source": [
        "It works and generate poems we want! However, it is stored and displayed in a way that humans are not easy to see and preceive. To better show the poem, we can split the string with any comma or period, and reformat it in a way that most poems do."
      ],
      "metadata": {
        "id": "X2x6izf27MQi"
      }
    },
    {
      "cell_type": "code",
      "source": [
        "poem_string = x[0]\n",
        "# Splitting the poem using periods and commas\n",
        "poem_lines = [line.strip() for line in poem_string.split('.') if line]\n",
        "poem_lines = [line + '.' for line in poem_lines]\n",
        "\n",
        "formatted_lines = []\n",
        "for line in poem_lines:\n",
        "    formatted_lines.extend([subline.strip() for subline in line.split('\\n') if subline])\n",
        "\n",
        "for line in formatted_lines:\n",
        "    print(line)"
      ],
      "metadata": {
        "id": "ekLfoC4j7JV1"
      },
      "execution_count": null,
      "outputs": []
    },
    {
      "cell_type": "markdown",
      "source": [
        "Now it looks better!\n",
        "\n",
        "Below are some other poems generated."
      ],
      "metadata": {
        "id": "_iehSEx38YOr"
      }
    },
    {
      "cell_type": "code",
      "source": [
        "text = \"The most exciting poem about city is writtem as follows:\"\n",
        "\n",
        "x = generate(model.to('cpu'), tokenizer, text, entry_count=1)\n",
        "\n",
        "poem_string = x[0]\n",
        "# Splitting the poem using periods and commas\n",
        "poem_lines = [line.strip() for line in poem_string.split('.') if line]\n",
        "poem_lines = [line + '.' for line in poem_lines]\n",
        "\n",
        "formatted_lines = []\n",
        "for line in poem_lines:\n",
        "    formatted_lines.extend([subline.strip() for subline in line.split('\\n') if subline])\n",
        "\n",
        "for line in formatted_lines:\n",
        "    print(line)"
      ],
      "metadata": {
        "colab": {
          "base_uri": "https://localhost:8080/"
        },
        "id": "O5UM154g8z-4",
        "outputId": "325f7c90-b1a4-474d-9f66-23b2b8d4f3fd"
      },
      "execution_count": null,
      "outputs": [
        {
          "output_type": "stream",
          "name": "stderr",
          "text": [
            "100%|██████████| 1/1 [00:18<00:00, 18.34s/it]"
          ]
        },
        {
          "output_type": "stream",
          "name": "stdout",
          "text": [
            "The most exciting poem about city is writtem as follows:\n",
            "When you hit the buzzer\n",
            "I'll always call out \"town\" like my blue-bellied cat on the corner of City Road and May Road\n",
            "That's the sense of awakening from the black emptiness of The Deep Waste\n",
            "That morning<|endoftext|>.\n"
          ]
        },
        {
          "output_type": "stream",
          "name": "stderr",
          "text": [
            "\n"
          ]
        }
      ]
    },
    {
      "cell_type": "markdown",
      "source": [],
      "metadata": {
        "id": "O7nxdbvw-Jkl"
      }
    },
    {
      "cell_type": "code",
      "source": [],
      "metadata": {
        "id": "QD0kYMCe-JSP"
      },
      "execution_count": null,
      "outputs": []
    },
    {
      "cell_type": "markdown",
      "source": [
        "#Presenting poem\n",
        "\n",
        "### Emoji poems (with poem voiceover)\n",
        "The inspration of this presenting method comes from abstractism, a popular expression style emerging post WW2. This style advocate for the creative and often blurry description of things or items. We believe it is a perfect match for presenting creatively generated poems, by conveying the meaning of the poem with vivid and in most of times funny little emojis.\n",
        "### Visualization (Painting & Videos)\n",
        "Humans are visual animals, as we can easily precieve and understand things visually. Poems and paintings are considered inseperable by Wang Wei, one of the great poets in ancient China. We believes that a good way to present the poems in the form of a painting, of course, with poem itself attached. We are considering using text-to-image models to achieve this, for example midjourney, stable diffusion and DALLE.\n",
        "### Audio (Music)\n",
        "Pending for feasibility verification.\n",
        "[Verrification failed and goal cancelled.]\n",
        "\n",
        "After several attempts, we decided not to proceed with this idea. This is due to the fact that audios are more complex than text in terms of carrying information. And the sense of whether a piece of audio convey the same meaning of a text is highly subjective. We found it difficult to produce in this way with good quality, and therefore this form is cancelled."
      ],
      "metadata": {
        "id": "8c0laZS9Cffb"
      }
    },
    {
      "cell_type": "markdown",
      "source": [
        "### One attempt of emoji and painting visualization\n",
        "For a generated two-sentence poem:\n",
        "\n",
        "Can't you feel the breath in your lungs?\n",
        "\n",
        "I feel the body lifting.\n",
        "\n",
        "A picture generated by DALLE2 is shown as:\n",
        "\n",
        "![_46f91739-d773-4dd7-a03b-030a6153f1b0.jpeg](data:image/jpeg;base64,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)"
      ],
      "metadata": {
        "id": "MAVc__eNu_Rh"
      }
    },
    {
      "cell_type": "markdown",
      "source": [
        "A cooresponding emoji representation:\n",
        "\n",
        "🤔💭🫁🔄😌\n",
        "\n",
        "💪🦵🚀⬆️\n",
        "\n",
        "It's quite nice and lovely!"
      ],
      "metadata": {
        "id": "H6WVVuyzvgFX"
      }
    },
    {
      "cell_type": "markdown",
      "source": [
        "In the end, we adopted two forms of poem presentation.\n",
        "\n",
        "1. Emojis (with voice-over, which can also be regarded as a seperate form of presentation. But to simplfy the poem book, we include it into the emoji presentation page.)\n",
        "\n",
        "2. Painting visualization."
      ],
      "metadata": {
        "id": "xvOwRnu9B1mj"
      }
    },
    {
      "cell_type": "markdown",
      "source": [
        "#Reflection\n",
        "\n",
        "Our model is fairly creative because every time a same input is given, it comes up with different kinds of output. These outputs are structured and can definetly make sense even though they might sometimes be nonsensical. Poems written by humans also have these qualities, which we also call creative. The visualization part of the generator takes advantages of the uniqueness of lovely little emojis and state-of-the-art text-to-image models, which produce decent representation of poems, making it a creative generator rather than a pure text machine.\n"
      ],
      "metadata": {
        "id": "bjnnAWK_81jO"
      }
    }
  ],
  "metadata": {
    "colab": {
      "provenance": [],
      "toc_visible": true
    },
    "kernelspec": {
      "display_name": "Python 3",
      "name": "python3"
    },
    "language_info": {
      "name": "python"
    }
  },
  "nbformat": 4,
  "nbformat_minor": 0
}